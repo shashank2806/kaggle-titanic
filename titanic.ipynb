{
  "nbformat": 4,
  "nbformat_minor": 0,
  "metadata": {
    "colab": {
      "name": "titanic.ipynb",
      "version": "0.3.2",
      "provenance": [],
      "collapsed_sections": [],
      "include_colab_link": true
    },
    "kernelspec": {
      "name": "python3",
      "display_name": "Python 3"
    }
  },
  "cells": [
    {
      "cell_type": "markdown",
      "metadata": {
        "id": "view-in-github",
        "colab_type": "text"
      },
      "source": [
        "[View in Colaboratory](https://colab.research.google.com/github/shashank2806/kaggle-titanic/blob/master/titanic.ipynb)"
      ]
    },
    {
      "metadata": {
        "id": "ZjhkQWZvLr1W",
        "colab_type": "text"
      },
      "cell_type": "markdown",
      "source": [
        "\n",
        "#Titanic: Machine Learning from Disaster\n",
        "\n",
        "Predict survival on the Titanic  with ML."
      ]
    },
    {
      "metadata": {
        "id": "Tst_-OSeL_Dr",
        "colab_type": "code",
        "colab": {}
      },
      "cell_type": "code",
      "source": [
        ""
      ],
      "execution_count": 0,
      "outputs": []
    }
  ]
}