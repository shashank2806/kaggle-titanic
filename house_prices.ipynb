{
  "nbformat": 4,
  "nbformat_minor": 0,
  "metadata": {
    "colab": {
      "name": "house_prices.ipynb",
      "version": "0.3.2",
      "provenance": [],
      "collapsed_sections": [],
      "include_colab_link": true
    },
    "kernelspec": {
      "name": "python3",
      "display_name": "Python 3"
    }
  },
  "cells": [
    {
      "cell_type": "markdown",
      "metadata": {
        "id": "view-in-github",
        "colab_type": "text"
      },
      "source": [
        "[View in Colaboratory](https://colab.research.google.com/github/shashank2806/kaggle-titanic/blob/master/house_prices.ipynb)"
      ]
    },
    {
      "metadata": {
        "id": "j64bupSOvxDB",
        "colab_type": "text"
      },
      "cell_type": "markdown",
      "source": [
        "#Descision Tree Regressor"
      ]
    },
    {
      "metadata": {
        "id": "IJplAdPSwBZa",
        "colab_type": "code",
        "colab": {}
      },
      "cell_type": "code",
      "source": [
        "import pandas as pd\n",
        "from sklearn.tree import DecisionTreeRegressor\n",
        "from sklearn.metrics import mean_absolute_error\n",
        "from sklearn.metrics import mean_squared_error\n",
        "from sklearn.model_selection import train_test_split\n",
        "from sklearn.preprocessing import Imputer"
      ],
      "execution_count": 0,
      "outputs": []
    },
    {
      "metadata": {
        "id": "8RslIcK-wC8C",
        "colab_type": "code",
        "colab": {}
      },
      "cell_type": "code",
      "source": [
        "from google.colab import files\n",
        "files.upload()"
      ],
      "execution_count": 0,
      "outputs": []
    },
    {
      "metadata": {
        "id": "nsM0x2SAwYVH",
        "colab_type": "code",
        "colab": {
          "base_uri": "https://localhost:8080/",
          "height": 156
        },
        "outputId": "6784c611-57e9-4a96-d60a-87c9e90b35eb"
      },
      "cell_type": "code",
      "source": [
        "!unzip house-prices.zip"
      ],
      "execution_count": 6,
      "outputs": [
        {
          "output_type": "stream",
          "text": [
            "Archive:  house-prices.zip\n",
            "  inflating: test.csv.gz             \n",
            "  inflating: sample_submission.csv.gz  \n",
            "  inflating: sample_submission.csv   \n",
            "  inflating: test.csv                \n",
            "  inflating: train.csv.gz            \n",
            "  inflating: data_description.txt    \n",
            "  inflating: train.csv               \n"
          ],
          "name": "stdout"
        }
      ]
    },
    {
      "metadata": {
        "id": "G3-CGszi4wzn",
        "colab_type": "code",
        "colab": {}
      },
      "cell_type": "code",
      "source": [
        "test = pd.read_csv(\"test.csv\")\n",
        "train = pd.read_csv(\"train.csv\")"
      ],
      "execution_count": 0,
      "outputs": []
    },
    {
      "metadata": {
        "id": "tshFtae_433I",
        "colab_type": "code",
        "colab": {}
      },
      "cell_type": "code",
      "source": [
        "X = train.drop(['SalePrice'],axis=1)\n",
        "y = train.SalePrice"
      ],
      "execution_count": 0,
      "outputs": []
    },
    {
      "metadata": {
        "id": "Gfjfsvr26hp1",
        "colab_type": "code",
        "colab": {
          "base_uri": "https://localhost:8080/",
          "height": 34
        },
        "outputId": "5d2e8468-8b84-4af0-c238-269de0adb1a8"
      },
      "cell_type": "code",
      "source": [
        "val_X = test[list(test)]\n",
        "val_X.shape, train.shape"
      ],
      "execution_count": 9,
      "outputs": [
        {
          "output_type": "execute_result",
          "data": {
            "text/plain": [
              "((1459, 80), (1460, 81))"
            ]
          },
          "metadata": {
            "tags": []
          },
          "execution_count": 9
        }
      ]
    },
    {
      "metadata": {
        "id": "y0-wvyHp7ZJv",
        "colab_type": "code",
        "colab": {
          "base_uri": "https://localhost:8080/",
          "height": 34
        },
        "outputId": "8e9f751e-1343-4ecb-9799-138a498cdd74"
      },
      "cell_type": "code",
      "source": [
        "type(val_X)"
      ],
      "execution_count": 10,
      "outputs": [
        {
          "output_type": "execute_result",
          "data": {
            "text/plain": [
              "pandas.core.frame.DataFrame"
            ]
          },
          "metadata": {
            "tags": []
          },
          "execution_count": 10
        }
      ]
    },
    {
      "metadata": {
        "id": "naGbmZuKrHd0",
        "colab_type": "code",
        "colab": {}
      },
      "cell_type": "code",
      "source": [
        "one_hot_pred = pd.get_dummies(X)\n",
        "one_hot_encoded_test_predictors = pd.get_dummies(val_X)\n",
        "final_train, final_test = one_hot_pred.align(one_hot_encoded_test_predictors,\n",
        "                                                                    join='left', \n",
        "                                                                    axis=1)"
      ],
      "execution_count": 0,
      "outputs": []
    },
    {
      "metadata": {
        "id": "7eHeoBMRrxkF",
        "colab_type": "code",
        "colab": {}
      },
      "cell_type": "code",
      "source": [
        "my_imputer = Imputer()\n",
        "imputed_X_train = my_imputer.fit_transform(final_train)\n",
        "imputed_X_test = my_imputer.transform(final_test)"
      ],
      "execution_count": 0,
      "outputs": []
    },
    {
      "metadata": {
        "id": "azdfp_kFsFNK",
        "colab_type": "code",
        "colab": {}
      },
      "cell_type": "code",
      "source": [
        "new_dt_model=DecisionTreeRegressor()\n",
        "\n",
        "new_dt_model.fit(imputed_X_train,y)\n",
        "\n",
        "dt_predictions=new_dt_model.predict(imputed_X_test)"
      ],
      "execution_count": 0,
      "outputs": []
    },
    {
      "metadata": {
        "id": "WSRt9EEesUyI",
        "colab_type": "code",
        "colab": {}
      },
      "cell_type": "code",
      "source": [
        "my_submission=pd.DataFrame({'ID': test.Id, 'SalePrice': dt_predictions})\n",
        "\n",
        "my_submission.to_csv('dy_submission.csv',index=False)"
      ],
      "execution_count": 0,
      "outputs": []
    },
    {
      "metadata": {
        "id": "DmgaE2FwsrrR",
        "colab_type": "code",
        "colab": {}
      },
      "cell_type": "code",
      "source": [
        ""
      ],
      "execution_count": 0,
      "outputs": []
    }
  ]
}